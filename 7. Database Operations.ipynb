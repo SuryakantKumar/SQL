{
 "cells": [
  {
   "cell_type": "markdown",
   "id": "b994ad59-c545-4aba-93c9-b8a2ecab689a",
   "metadata": {},
   "source": [
    "## Database Operations\n",
    "\n",
    "Database Operations are broadly categorized into the following:"
   ]
  },
  {
   "cell_type": "markdown",
   "id": "824a6920-4e69-49f5-b007-8521e7472d6d",
   "metadata": {},
   "source": [
    "* DDL - Data Definition Language\n",
    "  * CREATE/ALTER/DROP Tables\n",
    "  * CREATE/ALTER/DROP Indexes\n",
    "  * Add constraints to tables\n",
    "  * CREATE/ALTER/DROP Views\n",
    "  * CREATE/ALTER/DROP Sequences "
   ]
  },
  {
   "cell_type": "markdown",
   "id": "a0d88a54-ad76-4b48-8f32-c271105fc1ab",
   "metadata": {},
   "source": [
    "* DML - Data Manipulation Language\n",
    "  * Inserting new data into the table\n",
    "  * Updating existing data in the table\n",
    "  * Deleting existing data from the table"
   ]
  },
  {
   "cell_type": "markdown",
   "id": "cbc19bd1-1a7d-42a8-9350-d0fc0eace018",
   "metadata": {},
   "source": [
    "* DQL - Data Query Language\n",
    "  * Read the data from the table"
   ]
  }
 ],
 "metadata": {
  "kernelspec": {
   "display_name": "Python 3 (ipykernel)",
   "language": "python",
   "name": "python3"
  },
  "language_info": {
   "codemirror_mode": {
    "name": "ipython",
    "version": 3
   },
   "file_extension": ".py",
   "mimetype": "text/x-python",
   "name": "python",
   "nbconvert_exporter": "python",
   "pygments_lexer": "ipython3",
   "version": "3.9.12"
  }
 },
 "nbformat": 4,
 "nbformat_minor": 5
}
