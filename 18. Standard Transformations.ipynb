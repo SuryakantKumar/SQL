{
 "cells": [
  {
   "cell_type": "markdown",
   "id": "b0f8438f-8137-4d78-8d27-a95d91e1d9be",
   "metadata": {},
   "source": [
    "## Standard Transformations\n",
    "\n",
    "Here are some of the transformations we typically perform on regular basis.\n",
    "* Projection of data\n",
    "* Filtering data\n",
    "* Performing Aggregations\n",
    "* Joins\n",
    "* Sorting\n",
    "* Ranking"
   ]
  }
 ],
 "metadata": {
  "kernelspec": {
   "display_name": "Python 3 (ipykernel)",
   "language": "python",
   "name": "python3"
  },
  "language_info": {
   "codemirror_mode": {
    "name": "ipython",
    "version": 3
   },
   "file_extension": ".py",
   "mimetype": "text/x-python",
   "name": "python",
   "nbconvert_exporter": "python",
   "pygments_lexer": "ipython3",
   "version": "3.9.12"
  }
 },
 "nbformat": 4,
 "nbformat_minor": 5
}
