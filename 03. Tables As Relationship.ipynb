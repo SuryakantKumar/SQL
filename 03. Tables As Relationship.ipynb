{
 "cells": [
  {
   "cell_type": "markdown",
   "id": "3675c208-71be-45d8-b282-e5fab6918a3e",
   "metadata": {},
   "source": [
    "## Tables as Relations\n",
    "\n",
    "Let us understand details about relations and different types of relationships we typically use."
   ]
  },
  {
   "cell_type": "markdown",
   "id": "181f11be-b023-4b39-b964-a32d253da767",
   "metadata": {},
   "source": [
    "* In RDBMS - R stands for Relational."
   ]
  },
  {
   "cell_type": "markdown",
   "id": "94e997de-ecf4-476e-bbe6-92d94c300877",
   "metadata": {},
   "source": [
    "* In the transactional systems, tables are created using normalization principles. There will be relations or tables created based on relationships among them."
   ]
  },
  {
   "cell_type": "markdown",
   "id": "05dec5cc-5cee-443b-99b7-7c3d8accafed",
   "metadata": {},
   "source": [
    "* Here are the typical relationships among the tables.\n",
    "  * 1 to 1\n",
    "  * 1 to many or many to 1 (1 to n or n to 1)\n",
    "  * many to many (n to n)"
   ]
  },
  {
   "cell_type": "markdown",
   "id": "4278ebf5-dbf9-4c0f-ace7-4fe360764d1d",
   "metadata": {},
   "source": [
    "* To **enforce** relationships we typically define constraints such as **Primary Key** and **Foreign Key**."
   ]
  },
  {
   "cell_type": "markdown",
   "id": "40ac0c68-cf56-4872-8fbf-e3cc41087fd2",
   "metadata": {},
   "source": [
    "* Here is the typical process we follow from requirements to physical database tables before building applications.\n",
    "  * Identify entities based up on the requirements.\n",
    "  * Define relationships among them.\n",
    "  * Create ER Diagram (Entity Relationship Diagram). It is also called as Logical Data Model.\n",
    "  * Apply Normalization Principles on the entities to identify tables and constraints to manage relationships among them.\n",
    "  * Come up with Physical Data Model and generate required DDL Scripts.\n",
    "  * Execute the scripts in the database on which applications will be eventually build based up on business requirements."
   ]
  },
  {
   "cell_type": "markdown",
   "id": "baf633ca-e92f-4a24-acdb-6ff14007738d",
   "metadata": {},
   "source": [
    "* Logical modeling is typically done by Data Architects."
   ]
  },
  {
   "cell_type": "markdown",
   "id": "b074400d-a0c4-43db-9662-e694d7b5caeb",
   "metadata": {},
   "source": [
    "* Physical modeling is taken care by Application Architect or Development lead."
   ]
  },
  {
   "cell_type": "markdown",
   "id": "f992076e-9c1c-44af-b669-86581dccd945",
   "metadata": {},
   "source": [
    "* Let us go through [data model](https://docs.oracle.com/cd/B28359_01/server.111/b28328/diagrams.htm) related to HR and OE systems.\n",
    "  * Identify the relationships between the tables.\n",
    "  * Differentiate between transactional tables and non transactional tables."
   ]
  }
 ],
 "metadata": {
  "kernelspec": {
   "display_name": "Python 3 (ipykernel)",
   "language": "python",
   "name": "python3"
  },
  "language_info": {
   "codemirror_mode": {
    "name": "ipython",
    "version": 3
   },
   "file_extension": ".py",
   "mimetype": "text/x-python",
   "name": "python",
   "nbconvert_exporter": "python",
   "pygments_lexer": "ipython3",
   "version": "3.9.12"
  }
 },
 "nbformat": 4,
 "nbformat_minor": 5
}
