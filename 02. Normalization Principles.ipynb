{
 "cells": [
  {
   "cell_type": "markdown",
   "id": "4d09426c-647a-4184-bb2c-d3eea139a752",
   "metadata": {},
   "source": [
    "## Normalization Principles\n",
    "\n",
    "Here are different normal forms we use :\n",
    "* [1st Normal Form](https://en.wikipedia.org/wiki/First_normal_form)\n",
    "* [2nd Normal Form](https://en.wikipedia.org/wiki/Second_normal_form)\n",
    "* [3rd Normal Form](https://en.wikipedia.org/wiki/Third_normal_form)\n",
    "* [Boyce Codd Normal Form](https://en.wikipedia.org/wiki/Boyce–Codd_normal_form)\n",
    "\n",
    "Most of the well designed Data Models will be in 3rd Normal Form. BCNF is used in some extreme cases where 3rd Normal Form does not eliminate all insertion, updation and deletion anomalies."
   ]
  },
  {
   "cell_type": "markdown",
   "id": "baadbd9b-0d75-48ed-8a32-df4933fa7509",
   "metadata": {},
   "source": [
    "### Reporting Environments\n",
    "\n",
    "While normalization is extensively used for transactional systems, they are not ideal for reporting or descision support systems. We tend to use dimensional modeling for reporting systems where tables will contain pre processed data as per the report requirements."
   ]
  },
  {
   "cell_type": "markdown",
   "id": "0a26362d-b62d-4661-95b0-e0dfdc689488",
   "metadata": {},
   "source": [
    "### Normal Forms - Key Terms\n",
    "\n",
    "Let us understand some of the key terms we use while going through the normal forms.\n",
    "* Domain\n",
    "* Attribute\n",
    "* Atomic (indivisible)\n",
    "* Functionally Dependent\n",
    "* Prime Attribute\n",
    "* Candidate Key\n",
    "* Data Anomalies - potential issues to data due to the mistakes by users or developers\n",
    "* Transitive Dependency"
   ]
  }
 ],
 "metadata": {
  "kernelspec": {
   "display_name": "Python 3 (ipykernel)",
   "language": "python",
   "name": "python3"
  },
  "language_info": {
   "codemirror_mode": {
    "name": "ipython",
    "version": 3
   },
   "file_extension": ".py",
   "mimetype": "text/x-python",
   "name": "python",
   "nbconvert_exporter": "python",
   "pygments_lexer": "ipython3",
   "version": "3.9.12"
  }
 },
 "nbformat": 4,
 "nbformat_minor": 5
}
