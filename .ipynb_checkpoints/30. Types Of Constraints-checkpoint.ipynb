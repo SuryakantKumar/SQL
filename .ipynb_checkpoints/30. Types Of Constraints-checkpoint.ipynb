{
 "cells": [
  {
   "cell_type": "markdown",
   "id": "c7d54536-3b98-4ca8-bd52-877bbf808645",
   "metadata": {},
   "source": [
    "## Different Types of Constraints\n",
    "\n",
    "Let us understand details about different types of constraints used in RDBMS databases.\n",
    "\n",
    "* Supported constraints:\n",
    "  * `NOT NULL` constraint\n",
    "  * `CHECK` constraint\n",
    "  * `UNIQUE` constraint\n",
    "  * `PRIMARY KEY` constraint\n",
    "  * `FOREIGN KEY` constraint"
   ]
  },
  {
   "cell_type": "markdown",
   "id": "15e53d02-62ad-43ef-88ff-6bd40feac36e",
   "metadata": {},
   "source": [
    "* All constraints can be added while creating the table or on pre-created tables using `ALTER`.\n",
    "\n",
    "* Typically we define `NOT NULL`, `CHECK` constraints while creating the tables. However, we can also specify **not null constraints** as well as **check constraints** to the columns while adding columns using `ALTER TABLE`.\n",
    "\n",
    "* `FOREIGN KEY` constraints are created after the tables are created. It is primarily used to define relationship between 2 tables - example: users is parent table and user_login_details is child table with one to many relationship between them.\n",
    "\n",
    "* `PRIMARY KEY` and `UNIQUE` constraints might be added as part of CREATE table statements or ALTER table statements. Both are commonly used practices."
   ]
  },
  {
   "cell_type": "markdown",
   "id": "54cac683-5b56-4fc9-9b3d-7abe5bf8697d",
   "metadata": {},
   "source": [
    "* Let us compare and contrast `PRIMARY KEY` and `UNIQUE` constraints.\n",
    "\n",
    "  * There can be only one `PRIMARY KEY` in a table where as there can be any number of `UNIQUE` constraints.\n",
    "  \n",
    "  * `UNIQUE` columns can have null values unless `NOT NULL` is also enforced. In case of `PRIMARY KEY`, both uniqueness as well as not null are strictly enforced. In other words a  primary key column cannot be null where as unique column can be null.\n",
    "  \n",
    "  * `FOREIGN KEY` from a child table can be defined against `PRIMARY KEY` column or `UNIQUE` column.\n",
    "  \n",
    "  * Typically `PRIMARY KEY` columns are surrogate keys which are supported by sequence.\n",
    "  \n",
    "  * `PRIMARY KEY` or `UNIQUE` can be composite. It means there can be more than one column to define `PRIMARY KEY` or `UNIQUE` constraint."
   ]
  },
  {
   "cell_type": "markdown",
   "id": "020ede74-679d-4a23-a080-5f885efc2b40",
   "metadata": {},
   "source": [
    "* Let's take an example of LMS (Learning Management System).\n",
    "\n",
    "  * **USERS** - it contains columns such as user_id, user_email_id, user_first_name etc. We can enforce primary key constraint on user_id and unique constraint on user_email_id.\n",
    "    \n",
    "  * **COURSES** - it contains columns such as course_id, course_name, course_price etc. Primary key constraint will be enforced on course_id.\n",
    "\n",
    "  * **STUDENTS** - A student is nothing but a user who is enrolled for one or more courses. But he can enroll for one course only once.\n",
    "    \n",
    "    * It contains fields such as student_id, user_id, course_id, amount_paid, enrolled_dt etc.\n",
    "    \n",
    "    * Primary key constraint will be enforced on student_id.\n",
    "    \n",
    "    * A foreign key constraint can be enforced on students.user_id against users.user_id.\n",
    "    \n",
    "    * Another foreign key constraint can be enforced on students.course_id against courses.course_id.\n",
    "    \n",
    "    * Also we can have unique constraint enforced on students.user_id and students.course_id. It will be composite key as it have more than one column."
   ]
  }
 ],
 "metadata": {
  "kernelspec": {
   "display_name": "Python 3 (ipykernel)",
   "language": "python",
   "name": "python3"
  },
  "language_info": {
   "codemirror_mode": {
    "name": "ipython",
    "version": 3
   },
   "file_extension": ".py",
   "mimetype": "text/x-python",
   "name": "python",
   "nbconvert_exporter": "python",
   "pygments_lexer": "ipython3",
   "version": "3.9.12"
  }
 },
 "nbformat": 4,
 "nbformat_minor": 5
}
