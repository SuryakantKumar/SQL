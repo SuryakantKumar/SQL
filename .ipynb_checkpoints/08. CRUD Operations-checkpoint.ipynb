{
 "cells": [
  {
   "cell_type": "markdown",
   "id": "11ce93df-3c33-4b21-8240-333e2352e8d0",
   "metadata": {},
   "source": [
    "## CRUD Operations\n",
    "\n",
    "CRUD Operations are nothing but DML and queries to read the data while performing database operations."
   ]
  },
  {
   "cell_type": "markdown",
   "id": "513c76d3-342b-44c7-9c9e-576600f1de25",
   "metadata": {},
   "source": [
    "* CRUD is widely used from application development perspective.\n",
    "    * C - CREATE (**INSERT**)\n",
    "    * R - READ (**READ**)\n",
    "    * U - UPDATE (**UPDATE**)\n",
    "    * D - DELETE (**DELETE**)"
   ]
  },
  {
   "cell_type": "markdown",
   "id": "a89e84e4-9832-4b94-b642-879053f9415e",
   "metadata": {},
   "source": [
    "**UPDATE** and **DELETE** internally uses **READ** because before Updating or Deleting the data, it reads it."
   ]
  },
  {
   "cell_type": "markdown",
   "id": "0aa1a7d1-c90c-499b-85a4-26e8f1510e3b",
   "metadata": {},
   "source": [
    "As part of the application development process we perform CRUD Operations using REST APIs."
   ]
  }
 ],
 "metadata": {
  "kernelspec": {
   "display_name": "Python 3 (ipykernel)",
   "language": "python",
   "name": "python3"
  },
  "language_info": {
   "codemirror_mode": {
    "name": "ipython",
    "version": 3
   },
   "file_extension": ".py",
   "mimetype": "text/x-python",
   "name": "python",
   "nbconvert_exporter": "python",
   "pygments_lexer": "ipython3",
   "version": "3.9.12"
  }
 },
 "nbformat": 4,
 "nbformat_minor": 5
}
