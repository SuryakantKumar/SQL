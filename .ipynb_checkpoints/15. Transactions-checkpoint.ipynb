{
 "cells": [
  {
   "cell_type": "markdown",
   "id": "9b80d7ff-3c80-44e2-9b48-abd4043df362",
   "metadata": {},
   "source": [
    "## Overview of Transactions\n",
    "\n",
    "We typically perform operations such as `COMMIT` and `ROLLBACK` via the applications."
   ]
  },
  {
   "cell_type": "markdown",
   "id": "da731fca-29a5-4cb3-a4bc-a82dc9372e6c",
   "metadata": {},
   "source": [
    "* `COMMIT` will persist the changes in the database."
   ]
  },
  {
   "cell_type": "markdown",
   "id": "1042ab2d-9871-4776-b4a8-232941bd03fe",
   "metadata": {},
   "source": [
    "* `ROLLBACK` will revert the uncommitted changes in the database."
   ]
  },
  {
   "cell_type": "markdown",
   "id": "e9750deb-455a-4bed-beb6-e51fea52d68a",
   "metadata": {},
   "source": [
    "* We typically rollback the uncommitted changes in a transaction if there is any exception as part of the application logic flow."
   ]
  },
  {
   "cell_type": "markdown",
   "id": "90a710a9-c6af-47cf-bf7d-a7462e331685",
   "metadata": {},
   "source": [
    "* For example, once the order is placed all the items that are added to shopping cart will be rolled back if the payment using credit card fails."
   ]
  },
  {
   "cell_type": "markdown",
   "id": "cd92dfc1-4ab7-4e61-8d50-de9dd960c84c",
   "metadata": {},
   "source": [
    "* By default every operation is typically committed in Postgres."
   ]
  },
  {
   "cell_type": "markdown",
   "id": "6bf104a8-a5ba-4d72-9037-c41568d67487",
   "metadata": {},
   "source": [
    "* Commands such as `COMMIT`, `ROLLBACK` typically comes under TCL (Transaction Control Language)"
   ]
  }
 ],
 "metadata": {
  "kernelspec": {
   "display_name": "Python 3 (ipykernel)",
   "language": "python",
   "name": "python3"
  },
  "language_info": {
   "codemirror_mode": {
    "name": "ipython",
    "version": 3
   },
   "file_extension": ".py",
   "mimetype": "text/x-python",
   "name": "python",
   "nbconvert_exporter": "python",
   "pygments_lexer": "ipython3",
   "version": "3.9.12"
  }
 },
 "nbformat": 4,
 "nbformat_minor": 5
}
