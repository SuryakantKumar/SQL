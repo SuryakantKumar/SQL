{
 "cells": [
  {
   "cell_type": "markdown",
   "id": "1e71df8b-6a15-476e-b488-841df185e1b7",
   "metadata": {},
   "source": [
    "## Create Database in Postgres\n",
    "\n",
    "You need to make sure that you are in Postgres CLI.\n",
    "\n",
    "```sql\n",
    "CREATE DATABASE <db_name>;\n",
    "    \n",
    "CREATE USER <db_user> WITH ENCRYPTED PASSWORD '<password>';\n",
    "\n",
    "GRANT ALL ON DATABASE <db_name> TO <db_user>;\n",
    "```"
   ]
  }
 ],
 "metadata": {
  "kernelspec": {
   "display_name": "Python 3 (ipykernel)",
   "language": "python",
   "name": "python3"
  },
  "language_info": {
   "codemirror_mode": {
    "name": "ipython",
    "version": 3
   },
   "file_extension": ".py",
   "mimetype": "text/x-python",
   "name": "python",
   "nbconvert_exporter": "python",
   "pygments_lexer": "ipython3",
   "version": "3.9.12"
  }
 },
 "nbformat": 4,
 "nbformat_minor": 5
}
