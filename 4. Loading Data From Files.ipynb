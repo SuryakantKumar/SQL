{
 "cells": [
  {
   "cell_type": "markdown",
   "id": "84289e25-f807-479c-9925-5b5dd7116f07",
   "metadata": {},
   "source": [
    "## Loading Data into DB From a CSV File\n",
    "\n",
    "We can use COPY Command using `psql` to copy the data into the table."
   ]
  },
  {
   "cell_type": "markdown",
   "id": "7151cbda-a330-46a8-a3b2-e31072946f96",
   "metadata": {},
   "source": [
    "* Make sure database is created along with the user with right permissions. Also the user who want to use `COPY` command need to have **pg_read_server_files** role assigned."
   ]
  },
  {
   "cell_type": "markdown",
   "id": "7984c29d-fd23-4791-a0bf-53e23ce4e63c",
   "metadata": {},
   "source": [
    "* Connect to the Postgres Database as super user postgres and run relevant grant command to grant the permissions."
   ]
  },
  {
   "cell_type": "markdown",
   "id": "fa9c6f2c-713d-4e66-8493-4da3cfc2b227",
   "metadata": {},
   "source": [
    "* Create the `users` table.\n",
    "\n",
    "```sql\n",
    "CREATE TABLE users (\n",
    "    user_id SERIAL PRIMARY KEY,\n",
    "    user_first_name VARCHAR(30) NOT NULL,\n",
    "    user_last_name VARCHAR(30) NOT NULL,\n",
    "    user_email_id VARCHAR(50) NOT NULL,\n",
    "    user_email_validated BOOLEAN DEFAULT FALSE,\n",
    "    user_password VARCHAR(200),\n",
    "    user_role VARCHAR(1) NOT NULL DEFAULT 'U', --U and A\n",
    "    is_active BOOLEAN DEFAULT FALSE,\n",
    "    created_dt DATE DEFAULT CURRENT_DATE\n",
    ");\n",
    "```"
   ]
  },
  {
   "cell_type": "markdown",
   "id": "0462e231-8c83-43d5-adba-284c317936d3",
   "metadata": {},
   "source": [
    "* Use copy command to load the data\n",
    "\n",
    "```sql\n",
    "COPY users(user_first_name,\n",
    "           user_last_name,\n",
    "           user_email_id,\n",
    "           user_role,\n",
    "           created_dt)\n",
    "FROM '/data/users.csv'\n",
    "DELIMITER ','\n",
    "CSV HEADER;\n",
    "```"
   ]
  },
  {
   "cell_type": "markdown",
   "id": "163ac5d3-0e96-4143-82ca-c250c16caa8d",
   "metadata": {},
   "source": [
    "* Validate by running queries\n",
    "\n",
    "```sql\n",
    "SELECT\n",
    "    *\n",
    "FROM\n",
    "    users;\n",
    "```"
   ]
  }
 ],
 "metadata": {
  "kernelspec": {
   "display_name": "Python 3 (ipykernel)",
   "language": "python",
   "name": "python3"
  },
  "language_info": {
   "codemirror_mode": {
    "name": "ipython",
    "version": 3
   },
   "file_extension": ".py",
   "mimetype": "text/x-python",
   "name": "python",
   "nbconvert_exporter": "python",
   "pygments_lexer": "ipython3",
   "version": "3.9.12"
  }
 },
 "nbformat": 4,
 "nbformat_minor": 5
}
