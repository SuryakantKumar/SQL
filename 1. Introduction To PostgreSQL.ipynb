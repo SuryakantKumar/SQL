{
 "cells": [
  {
   "cell_type": "markdown",
   "id": "e3939e8f-4f93-4abb-859a-7e526c86b11c",
   "metadata": {},
   "source": [
    "## Using psql to interact with Postgresql\n",
    "\n",
    "Let us understand how to use `psql` utility to perform database operations."
   ]
  },
  {
   "cell_type": "markdown",
   "id": "593db687-7b70-4739-989f-1e3e82f9a3a6",
   "metadata": {},
   "source": [
    "* `psql` is command line utility to connect to the Postgres database server. It is typically used for the following by advanced Database users:\n",
    "  * Manage Databases\n",
    "  * Manage Tables\n",
    "  * Load data into tables for testing purposes"
   ]
  },
  {
   "cell_type": "markdown",
   "id": "4f947b33-8336-4407-842b-b7d9d398bf09",
   "metadata": {},
   "source": [
    "* We need to have at least Postgres Client installed on the server from which we want to use psql to connect to Postgres Server."
   ]
  },
  {
   "cell_type": "markdown",
   "id": "e20dcee2-9b8c-4577-b7dd-d9e754a86401",
   "metadata": {},
   "source": [
    "* If we are on the server where **Postgres Database Server** is installed, `psql` will be automatically available."
   ]
  },
  {
   "cell_type": "markdown",
   "id": "25458e4d-1c40-4e68-a31c-38419f741739",
   "metadata": {},
   "source": [
    "* We can run `sudo -u postgres psql -U postgres` from the server, provided we have sudo permissions on the server. Otherwise we need to go with `psql -U postgres -W` which will prompt for the password."
   ]
  },
  {
   "cell_type": "markdown",
   "id": "302827e0-2f1e-479e-8290-e19d14d0f201",
   "metadata": {},
   "source": [
    "* **postgres** is the super user for the postgres server and hence typically developers will not have access to it in non development environments."
   ]
  },
  {
   "cell_type": "markdown",
   "id": "03a263d2-0d49-483d-9582-6cca629bbbad",
   "metadata": {},
   "source": [
    "* As a developer, we can use following command to connect to a database setup on postgres server using user credentials.\n",
    "\n",
    "```shell\n",
    "psql  -h host_ip_or_dns_alias -p port -d db_name -U user_name -W\n",
    "```"
   ]
  },
  {
   "cell_type": "markdown",
   "id": "d942810e-0080-445c-a514-4effba75329b",
   "metadata": {},
   "source": [
    "* We typically use `psql` to troubleshoot the issues in non development servers. IDEs such as **SQL Alchemy** might be better for regular usage as part of development and unit testing process."
   ]
  },
  {
   "cell_type": "markdown",
   "id": "4dd69a4c-b761-493a-8ef8-6e750cfa8f3f",
   "metadata": {},
   "source": [
    "* We will be using Jupyter based environment. However, we will go through some of the important commands to get comfortable with `psql`.\n",
    "  * Listing Databases - `\\l`\n",
    "  * Switching to a Database - `\\c DATABASE_NAME`\n",
    "  * Get help for `psql` - `\\?`\n",
    "  * Listing tables - `\\d`\n",
    "  * Create table - `CREATE TABLE table_name (column_name SERIAL PRIMARY KEY)`\n",
    "  * Get details related to a table - `\\d table_name`\n",
    "  * Running Scripts - `\\i SCRIPT_PATH`"
   ]
  }
 ],
 "metadata": {
  "kernelspec": {
   "display_name": "Python 3 (ipykernel)",
   "language": "python",
   "name": "python3"
  },
  "language_info": {
   "codemirror_mode": {
    "name": "ipython",
    "version": 3
   },
   "file_extension": ".py",
   "mimetype": "text/x-python",
   "name": "python",
   "nbconvert_exporter": "python",
   "pygments_lexer": "ipython3",
   "version": "3.9.12"
  }
 },
 "nbformat": 4,
 "nbformat_minor": 5
}
